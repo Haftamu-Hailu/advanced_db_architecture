{
 "cells": [
  {
   "cell_type": "code",
   "execution_count": 1,
   "metadata": {},
   "outputs": [],
   "source": [
    "import pandas as pd\n",
    "import csv"
   ]
  },
  {
   "cell_type": "code",
   "execution_count": 43,
   "metadata": {},
   "outputs": [],
   "source": [
    "#function to read file line by line and write to a second file line by line\n",
    "def Read_Write_Line(filenamer,filenamew):\n",
    "    with open(filenamer, \"r\",encoding=\"utf-8\") as file_in,open(filenamew,\"w\",encoding=\"utf-8\") as file_out:\n",
    "        for i,line in enumerate(file_in):\n",
    "            print ('line[{}] = {}'.format(i, line))\n",
    "            file_out.write(line)"
   ]
  },
  {
   "cell_type": "code",
   "execution_count": 44,
   "metadata": {},
   "outputs": [
    {
     "name": "stdout",
     "output_type": "stream",
     "text": [
      "line[0] = This is first line\n",
      "\n",
      "line[1] = This is second line\n",
      "\n",
      "line[2] = This is third line\n",
      "\n",
      "line[3] = This is fourth line\n",
      "\n",
      "line[4] = This is fifth line\n",
      "\n",
      "line[5] = This is sixth line\n",
      "\n",
      "line[6] = This is seventh line\n",
      "\n",
      "line[7] = This is eigth line\n",
      "\n",
      "line[8] = This is ninth line\n",
      "\n",
      "line[9] = This is tenth line\n"
     ]
    }
   ],
   "source": [
    "#Testing the function\n",
    "filenamer=\"lines.txt\"\n",
    "filenamew=\"new_file.txt\"\n",
    "read_Write_line(filenamer,filenamew)"
   ]
  },
  {
   "cell_type": "code",
   "execution_count": 45,
   "metadata": {},
   "outputs": [],
   "source": [
    "#function to read csv line by line and write the content line by line to another file\n",
    "def Csv_File_Read_Write_Line(csv_file1, csv_file2):\n",
    "    with open (csv_file1, \"r\",encoding=\"utf_8\") as csv_file_in, open(csv_file2, \"w\", encoding=\"utf-8\") as csv_file_out:\n",
    "        csv_reader=csv.reader(csv_file_in)\n",
    "        csv_writer=csv.writer(csv_file_out)\n",
    "        for i, line in enumerate(csv_reader):\n",
    "            print ('line[{}] = {}'.format(i, line))\n",
    "            csv_writer.writerow(line) "
   ]
  },
  {
   "cell_type": "code",
   "execution_count": 48,
   "metadata": {},
   "outputs": [
    {
     "name": "stdout",
     "output_type": "stream",
     "text": [
      "line[0] = ['\\ufeffProgramming language,Designed by,Appeared,Extension']\n",
      "line[1] = ['Python,Guido van Rossum,1991,.py']\n",
      "line[2] = ['Java,James Gosling,1995,.java']\n",
      "line[3] = ['C++,Bjarne Stroustrup,1983,.cpp']\n",
      "line[4] = ['Scala, Haftamu Hailu,1990,.scala']\n"
     ]
    }
   ],
   "source": [
    "csv_file_read=\"csv_file_read.csv\"\n",
    "csv_file_write=\"csv_file_write.csv\"\n",
    "csv_file_read_write_line(csv_file_read, csv_file_write)"
   ]
  }
 ],
 "metadata": {
  "kernelspec": {
   "display_name": "Python 3",
   "language": "python",
   "name": "python3"
  },
  "language_info": {
   "codemirror_mode": {
    "name": "ipython",
    "version": 3
   },
   "file_extension": ".py",
   "mimetype": "text/x-python",
   "name": "python",
   "nbconvert_exporter": "python",
   "pygments_lexer": "ipython3",
   "version": "3.6.5"
  }
 },
 "nbformat": 4,
 "nbformat_minor": 2
}
